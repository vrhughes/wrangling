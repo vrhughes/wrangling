{
  "cells": [
    {
      "cell_type": "markdown",
      "id": "13ad028b-72b7-43ed-aa78-96fd4e518040",
      "metadata": {
        "id": "13ad028b-72b7-43ed-aa78-96fd4e518040"
      },
      "source": [
        "# Assignment: Data Wrangling\n",
        "## `! git clone https://github.com/DS3001/wrangling`\n",
        "## Do Q2, and one of Q1 or Q3."
      ]
    },
    {
      "cell_type": "code",
      "source": [
        "! git clone https://github.com/DS3001/wrangling"
      ],
      "metadata": {
        "colab": {
          "base_uri": "https://localhost:8080/"
        },
        "id": "B8zSqXB4yQcI",
        "outputId": "119d76e1-1772-4a6b-f833-883773977f64"
      },
      "id": "B8zSqXB4yQcI",
      "execution_count": 5,
      "outputs": [
        {
          "output_type": "stream",
          "name": "stdout",
          "text": [
            "fatal: destination path 'wrangling' already exists and is not an empty directory.\n"
          ]
        }
      ]
    },
    {
      "cell_type": "markdown",
      "id": "5735a4d4-8be8-433a-a351-70eb8002e632",
      "metadata": {
        "id": "5735a4d4-8be8-433a-a351-70eb8002e632"
      },
      "source": [
        "**Q1.** Open the \"tidy_data.pdf\" document in the repo, which is a paper called Tidy Data by Hadley Wickham.\n",
        "\n",
        "  1. Read the abstract. What is this paper about?\n",
        "  2. Read the introduction. What is the \"tidy data standard\" intended to accomplish?\n",
        "  3. Read the intro to section 2. What does this sentence mean: \"Like families, tidy datasets are all alike but every messy dataset is messy in its own way.\" What does this sentence mean: \"For a given dataset, it’s usually easy to figure out what are observations and what are variables, but it is surprisingly difficult to precisely define variables and observations in general.\"\n",
        "  4. Read Section 2.2. How does Wickham define values, variables, and observations?\n",
        "  5. How is \"Tidy Data\" defined in section 2.3?\n",
        "  6. Read the intro to Section 3 and Section 3.1. What are the 5 most common problems with messy datasets? Why are the data in Table 4 messy? What is \"melting\" a dataset?\n",
        "  7. Why, specifically, is table 11 messy but table 12 tidy and \"molten\"?\n",
        "  8. Read Section 6. What is the \"chicken-and-egg\" problem with focusing on tidy data? What does Wickham hope happens in the future with further work on the subject of data wrangling?"
      ]
    },
    {
      "cell_type": "markdown",
      "source": [
        "1. The paper is about data tidying which is a subset of data cleaning that makes it easy to \"manipulate, model and visualize\" data sets.\n",
        "2. The tidy data standard provides a way to organize data values within a dataset."
      ],
      "metadata": {
        "id": "xlw15nKxyYbX"
      },
      "id": "xlw15nKxyYbX"
    },
    {
      "cell_type": "code",
      "source": [
        "import pandas as pd\n",
        "import numpy as np\n",
        "import seaborn as sns"
      ],
      "metadata": {
        "id": "o-cOdYj4zZlO"
      },
      "id": "o-cOdYj4zZlO",
      "execution_count": 6,
      "outputs": []
    },
    {
      "cell_type": "markdown",
      "id": "da879ea7-8aac-48a3-b6c2-daea56d2e072",
      "metadata": {
        "id": "da879ea7-8aac-48a3-b6c2-daea56d2e072"
      },
      "source": [
        "**Q2.** This question provides some practice cleaning variables which have common problems.\n",
        "1. Numeric variable: For `./data/airbnb_hw.csv`, clean the `Price` variable as well as you can, and explain the choices you make. How many missing values do you end up with? (Hint: What happens to the formatting when a price goes over 999 dollars, say from 675 to 1,112?)\n",
        "2. Categorical variable: For the `./data/sharks.csv` data covered in the lecture, clean the \"Type\" variable as well as you can, and explain the choices you make.\n",
        "3. Dummy variable: For the pretrial data covered in the lecture, clean the `WhetherDefendantWasReleasedPretrial` variable as well as you can, and, in particular, replace missing values with `np.nan`.\n",
        "4. Missing values, not at random: For the pretrial data covered in the lecture, clean the `ImposedSentenceAllChargeInContactEvent` variable as well as you can, and explain the choices you make. (Hint: Look at the `SentenceTypeAllChargesAtConvictionInContactEvent` variable.)"
      ]
    },
    {
      "cell_type": "code",
      "source": [
        "# Question 1\n",
        "# loading and viewing data\n",
        "data1 = pd.read_csv('https://raw.githubusercontent.com/vrhughes/wrangling/main/assignment/data/airbnb_hw.csv', low_memory = False)\n",
        "print(data1.shape, '\\n') # dimensions\n",
        "print(data1.dtypes, '\\n') # types\n",
        "print(data1.columns, '\\n') # col names\n",
        "data1.head()"
      ],
      "metadata": {
        "id": "CODJ2J592Avj"
      },
      "id": "CODJ2J592Avj",
      "execution_count": null,
      "outputs": []
    },
    {
      "cell_type": "code",
      "source": [
        "# Question 1\n",
        "# assign variable name and look for unique values to see problems easier\n",
        "price = data1['Price']\n",
        "print(price.unique(), '\\n')\n",
        "\n",
        "# reassign getting rid of commas\n",
        "price = price.str.replace(',', '')\n",
        "print(price.unique(), '\\n')\n",
        "\n",
        "# find out type of price, if it is not price then will need to coerce\n",
        "print('Before coercion: \\n', price.describe(), '\\n')\n",
        "\n",
        "# coerce price to numeric from object type\n",
        "price = pd.to_numeric(price, errors = 'coerce')\n",
        "\n",
        "# see after coercion and check again for unique values\n",
        "print('After coercion: \\n', price.describe(), '\\n', price.unique(), '\\n')\n",
        "\n",
        "# missing dummy to see if any values are missing\n",
        "data1['price_missing'] = price.isnull()\n",
        "print('Missing: \\n', sum(data1['price_missing']), '\\n')\n",
        "\n",
        "# Since no values were missing I decided this data was cleaned to the best of my ability"
      ],
      "metadata": {
        "id": "izR9IYyD3WkR"
      },
      "id": "izR9IYyD3WkR",
      "execution_count": null,
      "outputs": []
    },
    {
      "cell_type": "code",
      "source": [
        "# Question 2\n",
        "# loading in and viewing data\n",
        "sharks = pd.read_csv('https://raw.githubusercontent.com/vrhughes/wrangling/main/assignment/data/sharks.csv', low_memory = False)\n",
        "print(sharks.shape, '\\n') # dimensions\n",
        "print(sharks.dtypes, '\\n') # types\n",
        "sharks.head()\n",
        "\n",
        "# getting a better idea of 'Type' values\n",
        "print(sharks['Type'].unique(), '\\n')\n",
        "print(sharks['Type'].value_counts(), '\\n')\n",
        "\n",
        "# consolidate 'Type' categories\n",
        "sharks['Type'] = sharks['Type'].replace(['Sea Disaster', 'Boat', 'Boating', 'Boatomg'], 'Watercraft')\n",
        "sharks['Type'] = sharks['Type'].replace(['Invalid', 'Questionable', 'Unconfirmed', 'Unverified', 'Under investigation'], np.nan)\n",
        "\n",
        "# visualize consolidation\n",
        "print(sharks['Type'].value_counts(), '\\n')\n"
      ],
      "metadata": {
        "id": "2Cy6V4_Q9FKQ"
      },
      "id": "2Cy6V4_Q9FKQ",
      "execution_count": null,
      "outputs": []
    },
    {
      "cell_type": "code",
      "source": [
        "# Question 3\n",
        "# load data and take a peek\n",
        "url = 'http://www.vcsc.virginia.gov/pretrialdataproject/October%202017%20Cohort_Virginia%20Pretrial%20Data%20Project_Deidentified%20FINAL%20Update_10272021.csv'\n",
        "d3 = pd.read_csv(url, low_memory = False) # Pandas downloads and loads the .csv file for you\n",
        "d3.head()\n",
        "\n",
        "# making dummy variable\n",
        "'''\n",
        "released = d3['released']\n",
        "\n",
        "# viewing released data\n",
        "print(released.unique(), '\\n')\n",
        "print(released.value_counts(), '\\n')\n",
        "print(released.describe(), '\\n')\n",
        "'''"
      ],
      "metadata": {
        "id": "TBa5uKmKGy8X",
        "outputId": "7df512a9-d21c-4ebe-80ed-17896d43f630",
        "colab": {
          "base_uri": "https://localhost:8080/",
          "height": 53
        }
      },
      "id": "TBa5uKmKGy8X",
      "execution_count": 8,
      "outputs": [
        {
          "output_type": "execute_result",
          "data": {
            "text/plain": [
              "\"\\nreleased = d3['released']\\n\\n# viewing released data\\nprint(released.unique(), '\\n')\\nprint(released.value_counts(), '\\n')\\nprint(released.describe(), '\\n')\\n\""
            ],
            "application/vnd.google.colaboratory.intrinsic+json": {
              "type": "string"
            }
          },
          "metadata": {},
          "execution_count": 8
        }
      ]
    },
    {
      "cell_type": "code",
      "source": [
        "# Question 3\n",
        "# making a dummy variable\n",
        "released = d3['WhetherDefendantWasReleasedPretrial']\n",
        "\n",
        "# viewing released data\n",
        "print(released.unique(), '\\n')\n",
        "print(released.value_counts(), '\\n')\n",
        "print(released.describe(), '\\n')\n",
        "\n",
        "# Replacing 9s with nan\n",
        "released = released.replace(9, np.nan)\n",
        "print(released.unique(), '\\n')\n",
        "print(released.value_counts(), '\\n')\n",
        "print(released.describe(), '\\n')\n",
        "\n",
        "# Reinserting the cleaned data\n",
        "d3['WhetherDefendantWasReleasedPretrial'] = released\n",
        "del released # getting rid of dummy var\n",
        "d3['WhetherDefendantWasReleasedPretrial'].value_counts() # Checking that everything worked"
      ],
      "metadata": {
        "id": "-kptNKcoSCFL",
        "outputId": "93f88014-9941-44a5-fdd5-340c5ace84c0",
        "colab": {
          "base_uri": "https://localhost:8080/",
          "height": 782
        }
      },
      "id": "-kptNKcoSCFL",
      "execution_count": 13,
      "outputs": [
        {
          "output_type": "stream",
          "name": "stdout",
          "text": [
            "[nan  0.  1.] \n",
            "\n",
            "WhetherDefendantWasReleasedPretrial\n",
            "1.0    19154\n",
            "0.0     3801\n",
            "Name: count, dtype: int64 \n",
            "\n",
            "count    22955.000000\n",
            "mean         0.834415\n",
            "std          0.371716\n",
            "min          0.000000\n",
            "25%          1.000000\n",
            "50%          1.000000\n",
            "75%          1.000000\n",
            "max          1.000000\n",
            "Name: WhetherDefendantWasReleasedPretrial, dtype: float64 \n",
            "\n",
            "[nan  0.  1.] \n",
            "\n",
            "WhetherDefendantWasReleasedPretrial\n",
            "1.0    19154\n",
            "0.0     3801\n",
            "Name: count, dtype: int64 \n",
            "\n",
            "count    22955.000000\n",
            "mean         0.834415\n",
            "std          0.371716\n",
            "min          0.000000\n",
            "25%          1.000000\n",
            "50%          1.000000\n",
            "75%          1.000000\n",
            "max          1.000000\n",
            "Name: WhetherDefendantWasReleasedPretrial, dtype: float64 \n",
            "\n"
          ]
        },
        {
          "output_type": "execute_result",
          "data": {
            "text/plain": [
              "WhetherDefendantWasReleasedPretrial\n",
              "1.0    19154\n",
              "0.0     3801\n",
              "Name: count, dtype: int64"
            ],
            "text/html": [
              "<div>\n",
              "<style scoped>\n",
              "    .dataframe tbody tr th:only-of-type {\n",
              "        vertical-align: middle;\n",
              "    }\n",
              "\n",
              "    .dataframe tbody tr th {\n",
              "        vertical-align: top;\n",
              "    }\n",
              "\n",
              "    .dataframe thead th {\n",
              "        text-align: right;\n",
              "    }\n",
              "</style>\n",
              "<table border=\"1\" class=\"dataframe\">\n",
              "  <thead>\n",
              "    <tr style=\"text-align: right;\">\n",
              "      <th></th>\n",
              "      <th>count</th>\n",
              "    </tr>\n",
              "    <tr>\n",
              "      <th>WhetherDefendantWasReleasedPretrial</th>\n",
              "      <th></th>\n",
              "    </tr>\n",
              "  </thead>\n",
              "  <tbody>\n",
              "    <tr>\n",
              "      <th>1.0</th>\n",
              "      <td>19154</td>\n",
              "    </tr>\n",
              "    <tr>\n",
              "      <th>0.0</th>\n",
              "      <td>3801</td>\n",
              "    </tr>\n",
              "  </tbody>\n",
              "</table>\n",
              "</div><br><label><b>dtype:</b> int64</label>"
            ]
          },
          "metadata": {},
          "execution_count": 13
        }
      ]
    },
    {
      "cell_type": "markdown",
      "id": "649494cd-cfd6-4f80-992a-9994fc19e1d5",
      "metadata": {
        "id": "649494cd-cfd6-4f80-992a-9994fc19e1d5"
      },
      "source": [
        "**Q3.** Many important datasets contain a race variable, typically limited to a handful of values often including Black, White, Asian, Latino, and Indigenous. This question looks at data gathering efforts on this variable by the U.S. Federal government.\n",
        "\n",
        "1. How did the most recent US Census gather data on race?\n",
        "2. Why do we gather these data? What role do these kinds of data play in politics and society? Why does data quality matter?\n",
        "3. Please provide a constructive criticism of how the Census was conducted: What was done well? What do you think was missing? How should future large scale surveys be adjusted to best reflect the diversity of the population? Could some of the Census' good practices be adopted more widely to gather richer and more useful data?\n",
        "4. How did the Census gather data on sex and gender? Please provide a similar constructive criticism of their practices.\n",
        "5. When it comes to cleaning data, what concerns do you have about protected characteristics like sex, gender, sexual identity, or race? What challenges can you imagine arising when there are missing values? What good or bad practices might people adopt, and why?\n",
        "6. Suppose someone invented an algorithm to impute values for protected characteristics like race, gender, sex, or sexuality. What kinds of concerns would you have?"
      ]
    }
  ],
  "metadata": {
    "colab": {
      "provenance": []
    },
    "kernelspec": {
      "display_name": "Python 3 (ipykernel)",
      "language": "python",
      "name": "python3"
    },
    "language_info": {
      "codemirror_mode": {
        "name": "ipython",
        "version": 3
      },
      "file_extension": ".py",
      "mimetype": "text/x-python",
      "name": "python",
      "nbconvert_exporter": "python",
      "pygments_lexer": "ipython3",
      "version": "3.10.4"
    }
  },
  "nbformat": 4,
  "nbformat_minor": 5
}